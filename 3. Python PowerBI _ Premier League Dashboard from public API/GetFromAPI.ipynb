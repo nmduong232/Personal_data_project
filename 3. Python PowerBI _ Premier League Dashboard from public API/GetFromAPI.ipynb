{
 "cells": [
  {
   "cell_type": "code",
   "execution_count": 1,
   "metadata": {},
   "outputs": [],
   "source": [
    "import requests\n",
    "import pandas as pd\n",
    "import numpy as np\n",
    "from msal import ConfidentialClientApplication\n",
    "from dotenv import load_dotenv\n",
    "import os"
   ]
  },
  {
   "cell_type": "code",
   "execution_count": 2,
   "metadata": {},
   "outputs": [],
   "source": [
    "pd.set_option('display.max_columns', None)\n",
    "pd.set_option('display.max_rows', None)"
   ]
  },
  {
   "cell_type": "markdown",
   "metadata": {},
   "source": [
    "## Steps to perform data cleaning\n",
    "1. Get the players dimension data from the Player API\n",
    "2. Get the team data from the Team API for connecting to player data via team code, clean the data to get only the team name and the team code\n",
    "3. Get the player position dimension  from elements type API \n",
    "4. Loop through the player history data API endpoints, edit the data type of the date column and transform to YearMonth, YearQuarter"
   ]
  },
  {
   "cell_type": "markdown",
   "metadata": {},
   "source": [
    "### 1. Get the players dim data"
   ]
  },
  {
   "cell_type": "code",
   "execution_count": 3,
   "metadata": {},
   "outputs": [
    {
     "data": {
      "text/plain": [
       "dict_keys(['events', 'game_settings', 'phases', 'teams', 'total_players', 'elements', 'element_stats', 'element_types'])"
      ]
     },
     "execution_count": 3,
     "metadata": {},
     "output_type": "execute_result"
    }
   ],
   "source": [
    "url = 'https://fantasy.premierleague.com/api/bootstrap-static/'\n",
    "r = requests.get(url)\n",
    "json = r.json()\n",
    "json.keys()"
   ]
  },
  {
   "cell_type": "code",
   "execution_count": 4,
   "metadata": {},
   "outputs": [],
   "source": [
    "elements_df = pd.DataFrame(json['elements'])"
   ]
  },
  {
   "cell_type": "code",
   "execution_count": 5,
   "metadata": {},
   "outputs": [],
   "source": [
    "elements_df = elements_df[['code',\n",
    "       'first_name', 'form', 'id', 'now_cost', 'points_per_game',\n",
    "       'second_name', 'team', 'team_code', 'total_points', 'web_name', 'minutes', 'goals_scored',\n",
    "       'assists', 'clean_sheets', 'goals_conceded', 'own_goals',\n",
    "       'penalties_saved', 'penalties_missed', 'yellow_cards', 'red_cards',\n",
    "       'saves', 'influence', 'creativity', 'threat', 'element_type'\n",
    "       ]]"
   ]
  },
  {
   "cell_type": "code",
   "execution_count": 6,
   "metadata": {},
   "outputs": [],
   "source": [
    "elements_df['Full_name'] = elements_df[['first_name','second_name']].agg(' '.join, axis=1)"
   ]
  },
  {
   "cell_type": "markdown",
   "metadata": {},
   "source": [
    "### 2. Get the team data for connecting to player data via team code, get only the team name and the team code"
   ]
  },
  {
   "cell_type": "code",
   "execution_count": 7,
   "metadata": {},
   "outputs": [],
   "source": [
    "teams_df = pd.DataFrame(json['teams'])"
   ]
  },
  {
   "cell_type": "code",
   "execution_count": 8,
   "metadata": {},
   "outputs": [],
   "source": [
    "teams_df = teams_df[['id', 'name', 'short_name']]"
   ]
  },
  {
   "cell_type": "markdown",
   "metadata": {},
   "source": [
    "### 3. Get the player position data from elements type API"
   ]
  },
  {
   "cell_type": "code",
   "execution_count": 9,
   "metadata": {},
   "outputs": [],
   "source": [
    "element_types_df = pd.DataFrame(json['element_types'])"
   ]
  },
  {
   "cell_type": "markdown",
   "metadata": {},
   "source": [
    "### 4. Loop through the player history data API using while true break, edit the data type of the date column and transform to YearMonth, YearQuarter"
   ]
  },
  {
   "cell_type": "code",
   "execution_count": 10,
   "metadata": {},
   "outputs": [
    {
     "data": {
      "text/plain": [
       "770"
      ]
     },
     "execution_count": 10,
     "metadata": {},
     "output_type": "execute_result"
    }
   ],
   "source": [
    "# Get the max id from the elements ID and generate a series of number from 1 to that max number to iterate the for loop through that API:\n",
    "max_player_id = elements_df['id'].max()\n",
    "max_player_id"
   ]
  },
  {
   "cell_type": "code",
   "execution_count": 11,
   "metadata": {},
   "outputs": [
    {
     "name": "stdout",
     "output_type": "stream",
     "text": [
      "No.of.unique player id: 767\n"
     ]
    }
   ],
   "source": [
    "all_player_history_df = pd.DataFrame()\n",
    "for i in range(1,max_player_id):\n",
    "    try:\n",
    "        url = 'https://fantasy.premierleague.com/api/element-summary/' + str(i)\n",
    "        r = requests.get(url)\n",
    "        json = r.json()\n",
    "        json.keys()\n",
    "        history_df = pd.DataFrame(json['history'])\n",
    "        all_player_history_df = pd.concat([all_player_history_df, history_df], ignore_index=True)\n",
    "    except:\n",
    "        pass\n",
    "n = len(pd.unique(all_player_history_df['element']))\n",
    "print(\"No.of.unique player id:\", \n",
    "      n)"
   ]
  },
  {
   "cell_type": "code",
   "execution_count": null,
   "metadata": {},
   "outputs": [],
   "source": [
    "all_player_history_df_processed = all_player_history_df.copy()"
   ]
  },
  {
   "cell_type": "code",
   "execution_count": null,
   "metadata": {},
   "outputs": [],
   "source": [
    "all_player_history_df_processed['kickoff_time']=all_player_history_df_processed['kickoff_time'].str[0:10]"
   ]
  },
  {
   "cell_type": "code",
   "execution_count": null,
   "metadata": {},
   "outputs": [],
   "source": [
    "all_player_history_df_processed['kickoff_time'] = pd.to_datetime(all_player_history_df_processed['kickoff_time'])\n",
    "all_player_history_df_processed['game_month'] = all_player_history_df_processed['kickoff_time'].dt.strftime('%Y%m')\n",
    "all_player_history_df_processed['game_quarter'] = all_player_history_df_processed['kickoff_time'].dt.strftime('%YQ%q')"
   ]
  },
  {
   "cell_type": "code",
   "execution_count": null,
   "metadata": {},
   "outputs": [],
   "source": [
    "all_player_history_df_processed = all_player_history_df_processed[['element', 'fixture', 'kickoff_time', 'round', 'minutes',\n",
    "       'goals_scored', 'assists', 'clean_sheets', 'goals_conceded',\n",
    "       'own_goals', 'penalties_saved', 'penalties_missed', 'yellow_cards',\n",
    "       'red_cards', 'saves', 'influence', 'creativity',\n",
    "       'threat', 'game_month', 'game_quarter']]"
   ]
  },
  {
   "cell_type": "markdown",
   "metadata": {},
   "source": [
    "### Export all dataframes to Onedrive for visualization in PowerBI\n"
   ]
  },
  {
   "cell_type": "code",
   "execution_count": null,
   "metadata": {},
   "outputs": [],
   "source": [
    "dfs = {'dim_player_details': elements_df,\n",
    "        'dim_team': teams_df,\n",
    "       'dim_position': element_types_df,\n",
    "       'fact_player_history': all_player_history_df_processed\n",
    "       }"
   ]
  },
  {
   "cell_type": "code",
   "execution_count": null,
   "metadata": {},
   "outputs": [],
   "source": [
    "load_dotenv()\n",
    "client_id = os.getenv('client_id')\n",
    "client_secret = os.getenv('client_secret')\n",
    "tenant_id = os.getenv('tenant_id')\n",
    "token_endpoint = f'https://login.microsoftonline.com/{tenant_id}/oauth2/token'\n",
    "\n",
    "for key in dfs:\n",
    "    graph_api_endpoint = f'https://graph.microsoft.com/v1.0/me/drive/root:/Premier League Football API data/{key}.csv:/content'\n",
    "    csv_data = dfs[key].to_csv(index=False)\n",
    "\n",
    "    # Acquire token\n",
    "    app = ConfidentialClientApplication(\n",
    "        client_id,\n",
    "        authority=f'https://login.microsoftonline.com/{tenant_id}',\n",
    "        client_credential=client_secret,\n",
    "    )\n",
    "    token_response = app.acquire_token_for_client(scopes=['https://graph.microsoft.com/.default'])\n",
    "\n",
    "    # Upload to OneDrive\n",
    "    headers = {'Authorization': 'Bearer ' + token_response['access_token']}\n",
    "    response = requests.put(graph_api_endpoint, headers=headers, data=csv_data)\n",
    "\n",
    "    if response.status_code == 201:\n",
    "        print('File uploaded successfully!')\n",
    "    else:\n",
    "        print('Error uploading file. Status code:', response.status_code)\n",
    "        print(response.text)"
   ]
  },
  {
   "cell_type": "markdown",
   "metadata": {},
   "source": [
    "### 5. List of Pending items\n",
    "- Remove redundant columns from all_player_history_df - done\n",
    "- Change fixture date to time series and add new time columns - done\n",
    "- Export all columns to csv and upload to personal onedrive for connection to PowerBI get data from web - done"
   ]
  }
 ],
 "metadata": {
  "kernelspec": {
   "display_name": "Python 3",
   "language": "python",
   "name": "python3"
  },
  "language_info": {
   "codemirror_mode": {
    "name": "ipython",
    "version": 3
   },
   "file_extension": ".py",
   "mimetype": "text/x-python",
   "name": "python",
   "nbconvert_exporter": "python",
   "pygments_lexer": "ipython3",
   "version": "3.11.2"
  }
 },
 "nbformat": 4,
 "nbformat_minor": 2
}
